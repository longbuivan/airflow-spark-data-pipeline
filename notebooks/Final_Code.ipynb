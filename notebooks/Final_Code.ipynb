{
 "cells": [
  {
   "cell_type": "markdown",
   "id": "essential-transcription",
   "metadata": {},
   "source": [
    "# Video Analytic Demo"
   ]
  },
  {
   "cell_type": "markdown",
   "id": "marked-acting",
   "metadata": {},
   "source": [
    "## Initialize Spark Session"
   ]
  },
  {
   "cell_type": "code",
   "execution_count": 12,
   "id": "married-dating",
   "metadata": {},
   "outputs": [],
   "source": [
    "from pyspark.sql import SparkSession\n",
    "\n",
    "# Spark session & context\n",
    "spark = (SparkSession\n",
    "         .builder\n",
    "         .master(\"local\")\n",
    "         .appName(\"load-postgres\")\n",
    "         # Add postgres jar\n",
    "         .config(\"spark.driver.extraClassPath\", \"/home/wesley/work/jars/postgresql-9.4.1207.jar\")\n",
    "         .getOrCreate())\n",
    "sc = spark.sparkContext"
   ]
  },
  {
   "cell_type": "markdown",
   "id": "working-sample",
   "metadata": {},
   "source": [
    "### Read input"
   ]
  },
  {
   "cell_type": "code",
   "execution_count": 14,
   "id": "dying-program",
   "metadata": {},
   "outputs": [],
   "source": [
    "# Read input_1\n",
    "df_video_views_csv = (\n",
    "    spark.read\n",
    "    .format(\"csv\")\n",
    "    .option(\"header\", True)\n",
    "    .load(\"/home/wesley/work/data/video_views.csv\")\n",
    ")"
   ]
  },
  {
   "cell_type": "code",
   "execution_count": 153,
   "id": "controlled-purchase",
   "metadata": {},
   "outputs": [],
   "source": [
    "### Data Overview"
   ]
  },
  {
   "cell_type": "code",
   "execution_count": 152,
   "id": "spanish-anthony",
   "metadata": {},
   "outputs": [
    {
     "data": {
      "text/plain": [
       "DataFrame[summary: string, user_id: string, video_id: string]"
      ]
     },
     "execution_count": 152,
     "metadata": {},
     "output_type": "execute_result"
    }
   ],
   "source": [
    "df_video_views_csv.describe('user_id', 'video_id')"
   ]
  },
  {
   "cell_type": "code",
   "execution_count": 46,
   "id": "selective-furniture",
   "metadata": {},
   "outputs": [
    {
     "name": "stdout",
     "output_type": "stream",
     "text": [
      "root\n",
      " |-- timestamp: string (nullable = true)\n",
      " |-- user_id: string (nullable = true)\n",
      " |-- video_id: string (nullable = true)\n",
      " |-- watch_time: string (nullable = true)\n",
      "\n"
     ]
    }
   ],
   "source": [
    "df_video_views_csv.printSchema()"
   ]
  },
  {
   "cell_type": "code",
   "execution_count": 79,
   "id": "included-petite",
   "metadata": {},
   "outputs": [
    {
     "name": "stdout",
     "output_type": "stream",
     "text": [
      "+------------------------+\n",
      "|count(DISTINCT video_id)|\n",
      "+------------------------+\n",
      "|                   14342|\n",
      "+------------------------+\n",
      "\n"
     ]
    }
   ],
   "source": [
    "import pyspark.sql.functions as F\n",
    "df_video_views_csv.select(F.countDistinct(\"video_id\")).show()"
   ]
  },
  {
   "cell_type": "code",
   "execution_count": 81,
   "id": "secondary-fancy",
   "metadata": {},
   "outputs": [
    {
     "name": "stdout",
     "output_type": "stream",
     "text": [
      "+-----------------------+\n",
      "|count(DISTINCT user_id)|\n",
      "+-----------------------+\n",
      "|                1950131|\n",
      "+-----------------------+\n",
      "\n"
     ]
    }
   ],
   "source": [
    "df_video_views_csv.select(F.countDistinct(\"user_id\")).show()"
   ]
  },
  {
   "cell_type": "code",
   "execution_count": 58,
   "id": "involved-vegetable",
   "metadata": {},
   "outputs": [],
   "source": [
    "# Read input_2\n",
    "df_videos_json = (\n",
    "    spark.read\n",
    "    .format(\"json\")\n",
    "    .option(\"header\", False)\n",
    "    .load(\"/home/wesley/work/data/videos.json\")\n",
    ")"
   ]
  },
  {
   "cell_type": "code",
   "execution_count": 48,
   "id": "given-complex",
   "metadata": {},
   "outputs": [
    {
     "name": "stdout",
     "output_type": "stream",
     "text": [
      "root\n",
      " |-- _id: struct (nullable = true)\n",
      " |    |-- $oid: string (nullable = true)\n",
      " |-- duration: long (nullable = true)\n",
      " |-- genre: string (nullable = true)\n",
      "\n"
     ]
    }
   ],
   "source": [
    "# df_videos_json.describe().show()\n",
    "df_videos_json.printSchema()"
   ]
  },
  {
   "cell_type": "code",
   "execution_count": 44,
   "id": "indoor-intelligence",
   "metadata": {
    "scrolled": true
   },
   "outputs": [
    {
     "name": "stdout",
     "output_type": "stream",
     "text": [
      "+--------------------+--------+--------------------+\n",
      "|                 _id|duration|               genre|\n",
      "+--------------------+--------+--------------------+\n",
      "|[57a8e043c2aeda56...|     239|                null|\n",
      "|[57a8e043c2aeda56...|     208|                null|\n",
      "|[57a8e070c2aeda56...|     430|                null|\n",
      "|[58380e511e6fcae3...|     269|                null|\n",
      "|[58a6e6cfa615ec0a...|     210|                null|\n",
      "|[58b02188a4ec163b...|     187|                null|\n",
      "|[5915908692c4dd0b...|     810|5d777bd7d1afd1063...|\n",
      "|[591ee23992c4dd0b...|     811|                null|\n",
      "|[597fea5092c4dd0b...|     166|5d777c03d1afd1063...|\n",
      "|[5988151192c4dd0b...|     103|5d777c03d1afd1063...|\n",
      "|[5993b9dc6d3a8dab...|      99|5d777c03d1afd1063...|\n",
      "|[5995d3ab6d3a8dab...|     155|5d777c03d1afd1063...|\n",
      "|[5996e9bc6d3a8dab...|     702|                null|\n",
      "|[59a017296d3a8dab...|    1076|                null|\n",
      "|[59a7daee6d3a8dab...|     122|5d777c03d1afd1063...|\n",
      "|[59af7c056d3a8dab...|     106|5d777c03d1afd1063...|\n",
      "|[59b28caac6fa8ea3...|     722|                null|\n",
      "|[59b7a020869a9065...|      64|5d775f89d1afd1063...|\n",
      "|[59c0f827a17509e9...|      97|5d775f89d1afd1063...|\n",
      "|[59cb650aa17509e9...|      88|5d777c03d1afd1063...|\n",
      "+--------------------+--------+--------------------+\n",
      "only showing top 20 rows\n",
      "\n"
     ]
    }
   ],
   "source": [
    "df_videos_json.show()"
   ]
  },
  {
   "cell_type": "markdown",
   "id": "threaded-acceptance",
   "metadata": {},
   "source": [
    "## Analysis"
   ]
  },
  {
   "cell_type": "markdown",
   "id": "smaller-salad",
   "metadata": {},
   "source": [
    "### Data enrichment"
   ]
  },
  {
   "cell_type": "code",
   "execution_count": 60,
   "id": "controlling-observation",
   "metadata": {},
   "outputs": [
    {
     "name": "stdout",
     "output_type": "stream",
     "text": [
      "+-------------+--------------------+--------------------+----------+--------------------+--------+--------------------+\n",
      "|    timestamp|             user_id|            video_id|watch_time|                 _id|duration|               genre|\n",
      "+-------------+--------------------+--------------------+----------+--------------------+--------+--------------------+\n",
      "|1803025809459|h7pMfBTwvVzh9g6H4...|5f59a816c26928003...|    655.36|[5f59a816c2692800...|    1596|{\"$oid\":\"5e0074a5...|\n",
      "|1803027779604|PyGvsGVYvy8sREFyw...|5f28cdae0500af003...|   1179.65|[5f28cdae0500af00...|    1426|5e9a78ac86fe16003...|\n",
      "|1803027361912|GCUxXvicdcneGFDK4...|5f5b0e6fc26928003...|       0.0|[5f5b0e6fc2692800...|     713|{\"$oid\":\"5ecb9893...|\n",
      "|1803025770330|bFX5WqUkxpva4HNRo...|5f84521e24a01f003...|       0.0|[5f84521e24a01f00...|     649|{\"$oid\":\"5d775f89...|\n",
      "|1803027039604|Y4NY4sPVYNjrJCJdC...|5f5621eac26928003...|    655.36|[5f5621eac2692800...|     699|{\"$oid\":\"5d775f89...|\n",
      "|1803024679511|DvpPB5j6VhsoyokNZ...|5f7e93cc00ae34282...|   1441.79|[5f7e93cc00ae3428...|    1596|{\"$oid\":\"5e0074a5...|\n",
      "|1803025491282|keRLPeHAS4sZxMYn9...|5f5b0e6fc26928003...|    393.22|[5f5b0e6fc2692800...|     713|{\"$oid\":\"5ecb9893...|\n",
      "|1803026518459|AzULi4F7MBQb7fCDE...|5f35118775e378003...|   1048.58|[5f35118775e37800...|    1335|{\"$oid\":\"5d43d9e4...|\n",
      "|1803024909497|djTXVEfYQuStiozYm...|5ecca94d0d921c003...|    524.29|[5ecca94d0d921c00...|     540|{\"$oid\":\"5e4b9fca...|\n",
      "|1803025203280|Asodp45oSVXdwHS8d...|5f6245dbe4478183f...|       0.0|[5f6245dbe4478183...|    1595|{\"$oid\":\"5e0074a5...|\n",
      "|1803025616809|h2aRyW3RXTQZBAaYg...|5f6c44408e2ce1003...|   1179.65|[5f6c44408e2ce100...|    1595|{\"$oid\":\"5e0074a5...|\n",
      "|1803025551891|Ez9KEfkqvaqPerFKD...|5f7e9a9300ae34282...|   1179.65|[5f7e9a9300ae3428...|    1596|{\"$oid\":\"5e0074a5...|\n",
      "|1803024546957|6XGcpmXxJCio9VZhD...|5f61df2be4478183f...|    262.14|[5f61df2be4478183...|    1420|{\"$oid\":\"5e0074a5...|\n",
      "|1803026535036|P3WHCCzU4kNwdAvMe...|5f8837b241504c003...|    655.36|[5f8837b241504c00...|     712|{\"$oid\":\"5f61895a...|\n",
      "|1803024913943|ex5MMTcHwdUrfsAyZ...|5f0c1e6acc004a003...|    131.07|[5f0c1e6acc004a00...|     758|{\"$oid\":\"5ecb9893...|\n",
      "|1803024983938|BJ3mgiqy3Zc9QqmRY...|5f50f0492ef15c003...|   1179.65|[5f50f0492ef15c00...|     722|{\"$oid\":\"5ecb9893...|\n",
      "|1803026675270|mySVdMxMXhtCmTsvc...|5f626384e4478183f...|   1048.58|[5f626384e4478183...|    1595|{\"$oid\":\"5e0074a5...|\n",
      "|1803026839048|U4qbUZZQMG8znxkCm...|5f6b7e6d8e2ce1003...|   2621.44|[5f6b7e6d8e2ce100...|    2631|{\"$oid\":\"5d43d9e4...|\n",
      "|1803027544096|ZLnyNskhGxN6bBFaw...|5f29408775e378003...|    393.22|[5f29408775e37800...|     464|{\"$oid\":\"5d43d9e4...|\n",
      "|1803025083482|hLYdV5G2HQhyWyaFo...|5ecc9ce136e189003...|       0.0|[5ecc9ce136e18900...|     534|5e4b9fcaf2b4f5003...|\n",
      "+-------------+--------------------+--------------------+----------+--------------------+--------+--------------------+\n",
      "only showing top 20 rows\n",
      "\n"
     ]
    }
   ],
   "source": [
    "df_video_views_consumption_1 = df_video_views_csv\n",
    "df_video_views_consumption_1 = df_video_views_csv.join(df_videos_json,\n",
    "                                                    df_video_views_csv.video_id == df_videos_json._id['$oid'],\n",
    "                                                    how='left')\n",
    "df_video_views_consumption_1.show()\n"
   ]
  },
  {
   "cell_type": "code",
   "execution_count": 108,
   "id": "associate-circulation",
   "metadata": {},
   "outputs": [
    {
     "name": "stdout",
     "output_type": "stream",
     "text": [
      "+--------------------+--------------------+-----+\n",
      "|             user_id|            video_id|count|\n",
      "+--------------------+--------------------+-----+\n",
      "|UJMTG89RzszT6jcpN...|5f3ba8054b64f5bc5...|    3|\n",
      "|VzGRnfMgyWxGxLiGe...|5f5b0e6fc26928003...|    1|\n",
      "|DKXh2yot2KPt8xn89...|5daf260b39ee65003...|    2|\n",
      "|QWoNf3d9xxkKPhE3A...|5f7e973700ae34282...|    1|\n",
      "|Q6xJwNefuJpvnDkag...|5f5b0e6fc26928003...|    1|\n",
      "|QTzDjXdYqL9wu7R4h...|5f6865dfe4478183f...|    2|\n",
      "|QUb3ua9am8pCZ2viJ...|5f74682c537ed5003...|    1|\n",
      "|Ca86topzh8i5vEZaP...|5f5b0e6fc26928003...|    1|\n",
      "|NidsQySFQmhd2TwJV...|5f68595fe4478183f...|    1|\n",
      "|6yMccVaYWfPT2e6Rx...|5f7d4f0f00ae34282...|    4|\n",
      "|ewMvGvQq3nsNA4hBv...|5f0576c5cc004a003...|    1|\n",
      "|WWQxcCEH79tQveX6p...|5ec66dc67fe48f003...|    2|\n",
      "|bsNCJtFMc4KxpRies...|5e708f380e59b3003...|    1|\n",
      "|Dpy8kjcWkosqGQgpP...|5f5b0e6fc26928003...|    1|\n",
      "|9JbeFGivEbyskR36Y...|5ef98b0bf6e78e159...|    1|\n",
      "|2LGW6xu3szRxfgPBu...|5f451034c18e10003...|    1|\n",
      "|cMadXpyPeRHWRzoQ6...|5f86cfb541504c003...|    1|\n",
      "|JJgPjSfWLzCNiCGci...|5f2142fecc004a003...|    2|\n",
      "|5eGMZdwUvNcDC2P76...|5f6245dbe4478183f...|    5|\n",
      "|HooRwq9eeuErz6bNN...|5e0ad6e708b95c003...|    1|\n",
      "+--------------------+--------------------+-----+\n",
      "only showing top 20 rows\n",
      "\n"
     ]
    }
   ],
   "source": [
    "# Checking whether one user has watched a video multiple time\n",
    "df_video_views_consumption_1.groupby('user_id', 'video_id').count().show()\n",
    "# Notes: group by video when grouping video"
   ]
  },
  {
   "cell_type": "code",
   "execution_count": 112,
   "id": "impaired-arthur",
   "metadata": {},
   "outputs": [
    {
     "name": "stdout",
     "output_type": "stream",
     "text": [
      "+-------------+--------------------+--------------------+----------+--------------------+--------+--------------------+\n",
      "|    timestamp|             user_id|            video_id|watch_time|                 _id|duration|               genre|\n",
      "+-------------+--------------------+--------------------+----------+--------------------+--------+--------------------+\n",
      "|1802870943049|2226bMBtgokFtUYKr...|5f7eea6400ae34282...|       0.0|[5f7eea6400ae3428...|     539|{\"$oid\":\"5e0074a5...|\n",
      "|1803210722393|2227xrQ9UTVyRmDra...|5f5f6a7026032d003...|       0.0|[5f5f6a7026032d00...|    5317|{\"$oid\":\"5e5779f3...|\n",
      "|1803210749229|2227xrQ9UTVyRmDra...|5f633c54e4478183f...|   2228.22|[5f633c54e4478183...|    4423|{\"$oid\":\"5e5779f3...|\n",
      "|1803290754364|2227xrQ9UTVyRmDra...|5f633c54e4478183f...|   3014.66|[5f633c54e4478183...|    4423|{\"$oid\":\"5e5779f3...|\n",
      "|1803293811416|2227xrQ9UTVyRmDra...|5f633d49e4478183f...|   1179.65|[5f633d49e4478183...|    4567|{\"$oid\":\"5e5779f3...|\n",
      "|1803367940477|2227xrQ9UTVyRmDra...|5f633d49e4478183f...|    393.22|[5f633d49e4478183...|    4567|{\"$oid\":\"5e5779f3...|\n",
      "|1802968647613|2227xrQ9UTVyRmDra...|5f6c5d6bb4ffb8003...|   2490.37|[5f6c5d6bb4ffb800...|    4606|{\"$oid\":\"5e577a11...|\n",
      "|1802971141381|2227xrQ9UTVyRmDra...|5f6c5ff6b4ffb8003...|   4718.59|[5f6c5ff6b4ffb800...|    4521|{\"$oid\":\"5e577a11...|\n",
      "|1802975789084|2227xrQ9UTVyRmDra...|5f6c6243b4ffb8003...|   4587.52|[5f6c6243b4ffb800...|    4445|{\"$oid\":\"5e577a11...|\n",
      "|1802980339550|2227xrQ9UTVyRmDra...|5f6c64a6b4ffb8003...|     917.5|[5f6c64a6b4ffb800...|    4494|{\"$oid\":\"5e577a11...|\n",
      "|1803011463149|2227xrQ9UTVyRmDra...|5f6c66fbb4ffb8003...|       0.0|[5f6c66fbb4ffb800...|    4364|{\"$oid\":\"5e577a11...|\n",
      "|1803011549268|2227xrQ9UTVyRmDra...|5f6c66fbb4ffb8003...|   2621.44|[5f6c66fbb4ffb800...|    4364|{\"$oid\":\"5e577a11...|\n",
      "|1802984880851|2227xrQ9UTVyRmDra...|5f6c66fbb4ffb8003...|   2883.58|[5f6c66fbb4ffb800...|    4364|{\"$oid\":\"5e577a11...|\n",
      "|1803011523638|2227xrQ9UTVyRmDra...|5f7448c8537ed5003...|       0.0|[5f7448c8537ed500...|    4710|{\"$oid\":\"5e577a11...|\n",
      "|1803020385208|2227xrQ9UTVyRmDra...|5f7448c8537ed5003...|   1835.01|[5f7448c8537ed500...|    4710|{\"$oid\":\"5e577a11...|\n",
      "|1803015001245|2227xrQ9UTVyRmDra...|5f7448c8537ed5003...|   2490.37|[5f7448c8537ed500...|    4710|{\"$oid\":\"5e577a11...|\n",
      "|1803014144712|2227xrQ9UTVyRmDra...|5f7448c8537ed5003...|    524.29|[5f7448c8537ed500...|    4710|{\"$oid\":\"5e577a11...|\n",
      "|1803022140392|2227xrQ9UTVyRmDra...|5f744b11537ed5003...|   4849.66|[5f744b11537ed500...|    4552|{\"$oid\":\"5e577a11...|\n",
      "|1803050779033|2227xrQ9UTVyRmDra...|5f744da5537ed5003...|    2359.3|[5f744da5537ed500...|    4841|{\"$oid\":\"5e577a11...|\n",
      "|1803027020251|2227xrQ9UTVyRmDra...|5f744da5537ed5003...|   4587.52|[5f744da5537ed500...|    4841|{\"$oid\":\"5e577a11...|\n",
      "+-------------+--------------------+--------------------+----------+--------------------+--------+--------------------+\n",
      "only showing top 20 rows\n",
      "\n"
     ]
    }
   ],
   "source": [
    "# Verify\n",
    "df_video_views_consumption_1.sort('user_id', 'video_id','watch_time').show()"
   ]
  },
  {
   "cell_type": "markdown",
   "id": "better-cambodia",
   "metadata": {},
   "source": [
    "### Create view for further usages"
   ]
  },
  {
   "cell_type": "code",
   "execution_count": 68,
   "id": "short-consensus",
   "metadata": {},
   "outputs": [],
   "source": [
    "df_video_views_consumption_1.createOrReplaceTempView(\"video_views\")"
   ]
  },
  {
   "cell_type": "markdown",
   "id": "comic-kinase",
   "metadata": {},
   "source": [
    "### 1. Calculate view percentage of every view"
   ]
  },
  {
   "cell_type": "code",
   "execution_count": 75,
   "id": "controlling-moderator",
   "metadata": {},
   "outputs": [
    {
     "name": "stdout",
     "output_type": "stream",
     "text": [
      "+---------------+\n",
      "|view_percentage|\n",
      "+---------------+\n",
      "|          46.56|\n",
      "+---------------+\n",
      "\n"
     ]
    }
   ],
   "source": [
    "spark.sql(\"SELECT ROUND(SUM(watch_time) / SUM(duration) * 100, 2) AS view_percentage FROM video_views\").show()"
   ]
  },
  {
   "cell_type": "markdown",
   "id": "combined-judge",
   "metadata": {},
   "source": [
    "### 2. Top 200 videos which satisfy the following conditions"
   ]
  },
  {
   "cell_type": "code",
   "execution_count": 77,
   "id": "british-programming",
   "metadata": {},
   "outputs": [
    {
     "name": "stdout",
     "output_type": "stream",
     "text": [
      "+--------------------+-----------+-----------------------+\n",
      "|            video_id|user_counts|average_view_percentage|\n",
      "+--------------------+-----------+-----------------------+\n",
      "|5f59dae1c26928003...|      11236|                 3923.0|\n",
      "|5f44e7d830d28c003...|      49995|                  830.0|\n",
      "|5f48a40b42243d003...|       7362|                  621.0|\n",
      "|5e86ade1d9056d004...|        278|                  449.0|\n",
      "|5f96d887ba9c7e003...|       1834|                  258.0|\n",
      "|5f9ba847f2a010003...|       2042|                  241.0|\n",
      "|5fa376bbf2a010003...|        223|                  215.0|\n",
      "|5fa923fc2b1bd2003...|       2264|                  172.0|\n",
      "|5f8436d524a01f003...|       6047|                  135.0|\n",
      "|5f8fc29241504c003...|       9055|                  135.0|\n",
      "|5f746351537ed5003...|      92859|                  125.0|\n",
      "|5f50b80e2ef15c003...|        235|                   96.0|\n",
      "|5e8d375c9df89f003...|        199|                   94.0|\n",
      "|5e4b9d57c14d65003...|        382|                   93.0|\n",
      "|5e8c8484c1fdd3003...|        115|                   92.0|\n",
      "|5e54aba4121fe2003...|        117|                   92.0|\n",
      "|5e54ab470a1d36003...|        147|                   91.0|\n",
      "|5e8aff8dbd28e2003...|        116|                   91.0|\n",
      "|5e8d37b84c9502003...|        202|                   90.0|\n",
      "|5e1411ce6f062a68c...|       4482|                   90.0|\n",
      "+--------------------+-----------+-----------------------+\n",
      "only showing top 20 rows\n",
      "\n"
     ]
    }
   ],
   "source": [
    "# 2.1 Construct output\n",
    "spark.sql(\"SELECT * FROM (\\\n",
    "                        SELECT video_id, COUNT(user_id) AS user_counts,ROUND(SUM(watch_time) / SUM(duration) * 100) AS average_view_percentage\\\n",
    "                        FROM video_views GROUP BY video_id) AS a\\\n",
    "                        WHERE a.user_counts > 100 ORDER BY a.average_view_percentage DESC LIMIT 200\").show()"
   ]
  },
  {
   "cell_type": "code",
   "execution_count": 96,
   "id": "electronic-ribbon",
   "metadata": {},
   "outputs": [],
   "source": [
    "# 2.2 Save output as file\n",
    "top200df= spark.sql(\"SELECT * FROM (\\\n",
    "                                    SELECT video_id, COUNT(user_id) AS user_counts,ROUND(SUM(watch_time) / SUM(duration) * 100, 2) AS average_view_percentage\\\n",
    "                                    FROM video_views GROUP BY video_id) AS a\\\n",
    "                                    WHERE a.user_counts > 100 ORDER BY a.average_view_percentage DESC LIMIT 200\")\n",
    "top200df.write.csv('top_200_videos.csv')"
   ]
  },
  {
   "cell_type": "markdown",
   "id": "equivalent-portal",
   "metadata": {},
   "source": [
    "### 3. Most recent watched videos (20 or less) of every user"
   ]
  },
  {
   "cell_type": "code",
   "execution_count": 149,
   "id": "environmental-sierra",
   "metadata": {},
   "outputs": [
    {
     "name": "stdout",
     "output_type": "stream",
     "text": [
      "+--------------------+--------------------+---------------+\n",
      "|             user_id|            video_id|watching_counts|\n",
      "+--------------------+--------------------+---------------+\n",
      "|222DHnyewx9ot7FD5...|5f8687cf48437a003...|              2|\n",
      "|227NevTwrsDj5Ha9a...|5f0c0c2dcc004a003...|              1|\n",
      "|22C7kMueBz2i6uQpv...|5f7d870f00ae34282...|              3|\n",
      "|22C7kMueBz2i6uQpv...|5f8687cf48437a003...|              1|\n",
      "|22DTsZc5cpAToDikD...|5eccd30b0d921c003...|              1|\n",
      "|22FLynEU9gcSoUizj...|5f86858548437a003...|              1|\n",
      "|22HBuXYLLMxGjE6xg...|5eb3dc23f1ce58003...|              1|\n",
      "|22HkjkFGqFQ5zUner...|5f5b0e6fc26928003...|              1|\n",
      "|22RtFjzCkqGb7jRnj...|5f71d93c537ed5003...|              2|\n",
      "|22SZULB5kLi4pSUxT...|5fabab982b1bd2003...|              1|\n",
      "|22Ug5S2fuyYogUFyq...|5f5a4224c26928003...|              1|\n",
      "|22XGHpyJ8hKDcavUL...|5e82fd1ad9a813003...|              2|\n",
      "|22ZqJBSgYUZbzdfhi...|5e2006e3518bf0003...|              1|\n",
      "|22ecHE8Cyz6Usfz4c...|5e75cf966aa2cb003...|              1|\n",
      "|22fbFcHNv5LnzPVnE...|5f9aa2a9f2a010003...|              1|\n",
      "|22hai53LrZDhNYN6K...|5f855dc34172c8003...|              1|\n",
      "|22o3vZ6iZvENwu6j4...|5fabac8a2b1bd2003...|              3|\n",
      "|22okNFVNuGZu4TPuU...|5f6c3a6e8e2ce1003...|              1|\n",
      "|22ugF8gdj2RjReg6T...|5e968723ef7625003...|              1|\n",
      "|22vfRJyRVqSoWkJ7y...|5f7b0c3c537ed5003...|              2|\n",
      "+--------------------+--------------------+---------------+\n",
      "only showing top 20 rows\n",
      "\n"
     ]
    }
   ],
   "source": [
    "recent_watched_video_df = spark.sql(\" SELECT user_id, video_id, MAX(rank) AS watching_counts\\\n",
    "                                            FROM (\\\n",
    "                                                SELECT *, RANK() OVER(PARTITION BY user_id, video_id ORDER BY timestamp DESC) AS rank\\\n",
    "                                                FROM video_views) AS a\\\n",
    "                                            WHERE rank < 20\\\n",
    "                                            GROUP BY user_id, video_id\").show()"
   ]
  },
  {
   "cell_type": "markdown",
   "id": "further-dover",
   "metadata": {},
   "source": [
    "### 4. Find most recent watched genres (5 or less) of every user"
   ]
  },
  {
   "cell_type": "code",
   "execution_count": 150,
   "id": "latin-principle",
   "metadata": {},
   "outputs": [
    {
     "name": "stdout",
     "output_type": "stream",
     "text": [
      "+--------------------+--------------------+---------------+\n",
      "|             user_id|               genre|watching_counts|\n",
      "+--------------------+--------------------+---------------+\n",
      "|2256t5bSDMpgVSSDq...|{\"$oid\":\"5e5779f3...|              4|\n",
      "|225QtQSQEEkSGm5o2...|{\"$oid\":\"5d43d9e4...|              1|\n",
      "|22FLynEU9gcSoUizj...|{\"$oid\":\"5e0074a5...|              1|\n",
      "|22W3PknVf5PtFwggJ...|5e0074a524fa4c003...|              1|\n",
      "|22bC5TQ4xMr8EdBrC...|{\"$oid\":\"5e0074a5...|              4|\n",
      "|22fE25AiFNsSHgHv7...|{\"$oid\":\"5e5779f3...|              2|\n",
      "|22wL3zcRQuSfhtjJs...|{\"$oid\":\"5e5779f3...|              4|\n",
      "|22zbBiPxgDhePxowF...|{\"$oid\":\"5d775f89...|              1|\n",
      "|23EWpzqKuzhjkhXrj...|{\"$oid\":\"5ecb9893...|              1|\n",
      "|23QWa7ag6EjB4FoE8...|5d775f89d1afd1063...|              1|\n",
      "|24BXxX6VnpNUKY3ih...|{\"$oid\":\"5e0074a5...|              4|\n",
      "|24EPR5DahmM3d7QNc...|{\"$oid\":\"5ecb9893...|              3|\n",
      "|258qtGXnRMJm4iHM8...|{\"$oid\":\"5e9a78ac...|              1|\n",
      "|25EfH6YG4D6uyN84X...|                    |              1|\n",
      "|25K4ubmRFJUVPzqbW...|{\"$oid\":\"5d775f89...|              4|\n",
      "|25VGufDZxhNPDyKt2...|{\"$oid\":\"5d43d9e4...|              1|\n",
      "|25quXUWaG3YMbPryp...|{\"$oid\":\"5ecb9893...|              2|\n",
      "|26KfTacMs3u6nZtLd...|{\"$oid\":\"5e0074a5...|              1|\n",
      "|26QVogAonsaVuU2NX...|{\"$oid\":\"5ecb9893...|              2|\n",
      "|26VDXdhSHyLyjoAho...|{\"$oid\":\"5e0074a5...|              3|\n",
      "+--------------------+--------------------+---------------+\n",
      "only showing top 20 rows\n",
      "\n"
     ]
    }
   ],
   "source": [
    "recent_watched_geners_df = spark.sql(\" SELECT user_id, genre, MAX(rank) AS watching_counts\\\n",
    "                                            FROM (\\\n",
    "                                                SELECT *, RANK() OVER(PARTITION BY user_id, genre ORDER BY timestamp DESC) AS rank\\\n",
    "                                                FROM video_views) AS a\\\n",
    "                                            WHERE rank < 5\\\n",
    "                                            GROUP BY user_id, genre\").show()"
   ]
  }
 ],
 "metadata": {
  "kernelspec": {
   "display_name": "Python 3",
   "language": "python",
   "name": "python3"
  },
  "language_info": {
   "codemirror_mode": {
    "name": "ipython",
    "version": 3
   },
   "file_extension": ".py",
   "mimetype": "text/x-python",
   "name": "python",
   "nbconvert_exporter": "python",
   "pygments_lexer": "ipython3",
   "version": "3.8.6"
  }
 },
 "nbformat": 4,
 "nbformat_minor": 5
}
